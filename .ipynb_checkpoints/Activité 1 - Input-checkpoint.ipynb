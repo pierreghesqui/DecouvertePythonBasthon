{
 "cells": [
  {
   "cell_type": "markdown",
   "id": "0b346f71",
   "metadata": {},
   "source": [
    "# Activité 1- Coder un générateur de \"blague de tonton\"\n",
    "Bonjour ! Ceci est ton premier cours sur le langage Python 😃.\n",
    "Dans ce tutoriel, tu pourras faire fonctionner des petits programmes informatiques. 💻 <br>\n",
    "Ci-dessous, tu as le programme informatique le plus simple du monde :   "
   ]
  },
  {
   "cell_type": "code",
   "execution_count": null,
   "id": "86946a01",
   "metadata": {
    "scrolled": false
   },
   "outputs": [],
   "source": [
    "print(\"Salut, jeune élève de seconde !\")\n"
   ]
  },
  {
   "cell_type": "markdown",
   "id": "2b824071",
   "metadata": {},
   "source": [
    "✍️ **Exécute ce code en cliquant n'importe où dans la fenêtre du code puis sur la flèche \"Exécuter\" en haut de la page.** \n",
    "<img src=\"https://github.com/pierreghesqui/DecouvertePythonBasthon/raw/main/img/fleche.PNG\" \n",
    "     width=\"300\"\n",
    "     height=\"300\"\n",
    "     style=\"float:left;margin:10px\">\n",
    "\n",
    "Normalement, si le code s'exécute correctement, tu dois voir apparaître la phrase \"Salut, jeune élève de seconde !\" en dessous du code.  \n",
    "💀 *Si tu n'arrives pas à faire fonctionner le code, appelle le professeur.* "
   ]
  },
  {
   "cell_type": "markdown",
   "id": "cd6f99ff",
   "metadata": {},
   "source": [
    "## Partie 1 - La commande <code>print()</code>\n",
    "Tu as remarqué que dans le code précédent, nous avons utilisé la commande <code>print</code>: <br> \n",
    "```Python\n",
    "print(\"Salut, jeune élève de seconde !\")\n",
    "```\n",
    "La commande <code>print</code> sert à afficher du texte. <br>\n",
    "✍️ **Exécute le code ci-dessous, tu devrais voir du texte apparaître en dessous :**"
   ]
  },
  {
   "cell_type": "code",
   "execution_count": null,
   "id": "737693d7",
   "metadata": {},
   "outputs": [],
   "source": [
    "# Code à exécuter : \n",
    "print(\"Je suis en train d'apprendre à utiliser la fonction print\")\n",
    "print(\"Pour l'instant, je ne trouve pas cela très intéressant \")\n",
    "print(\"Je suis trop intelligent pour le cours de SNT...\")"
   ]
  },
  {
   "cell_type": "markdown",
   "id": "5ba821bb",
   "metadata": {},
   "source": [
    "✍️**A toi d'écrire ci-dessous ton propre message en utilisant la fonction <code>print</code> dans la cellule vide ci-dessous (invente les phrases que tu veux):**"
   ]
  },
  {
   "cell_type": "code",
   "execution_count": null,
   "id": "34742fa8",
   "metadata": {},
   "outputs": [],
   "source": [
    "# Ecris ton code ci-dessous : \n",
    "\n"
   ]
  },
  {
   "cell_type": "markdown",
   "id": "6417d440",
   "metadata": {},
   "source": [
    "---"
   ]
  },
  {
   "cell_type": "markdown",
   "id": "8670e5f1",
   "metadata": {},
   "source": [
    "## Partie 2 : La commande <code>input()</code>"
   ]
  },
  {
   "cell_type": "markdown",
   "id": "77ecb993",
   "metadata": {},
   "source": [
    "Ci-dessous, j'ai écris une blague de tonton :<br> \n",
    "✍️ **Exécute le code ci-dessous pour voir le texte s'afficher**"
   ]
  },
  {
   "cell_type": "code",
   "execution_count": null,
   "id": "62edad37",
   "metadata": {},
   "outputs": [],
   "source": [
    "print(\"Qu'est-ce qui est jaune et qui attend ?\")\n",
    "print(\"Jonathan\")"
   ]
  },
  {
   "cell_type": "markdown",
   "id": "529bf01d",
   "metadata": {},
   "source": [
    "Cette plaisanterie serait mieux racontée si la chute de la blague n'arrivait pas en même temps que la question.<br>\n",
    "Pour cela, il suffit de mettre la commande <code>input()</code> entre chaque ligne de la blague, comme ceci : "
   ]
  },
  {
   "cell_type": "code",
   "execution_count": null,
   "id": "76c2c0c4",
   "metadata": {},
   "outputs": [],
   "source": [
    "print(\"Qu'est-ce qui est jaune et qui attend ? (appuie sur la touche 'ENTER' pour voir la suite...)\")\n",
    "input()\n",
    "print(\"Jonathan. (appuie sur la touche 'ENTER' pour voir la suite...)\")\n",
    "input()\n",
    "print(\"Comment appelle-t-on un tube de colle avec une cape ? \")\n",
    "input()\n",
    "print(\"Super Glue !\")\n",
    "input()\n",
    "print(\"Quelle est la boisson préférée de Teddy Riner ? \")\n",
    "input()\n",
    "print(\"Le Jus d'eau\")"
   ]
  },
  {
   "cell_type": "markdown",
   "id": "6dfa84ab",
   "metadata": {},
   "source": [
    "✍️**Pour faire fonctionner le code ci-dessus, clique sur la flèche puis appuie plusieurs fois sur la touche \"Enter\"du clavier pour voir la suite de la blague**.\n",
    "<img src=https://c.tenor.com/iBZ7GWwHmpQAAAAC/digitar.gif width=\"250\">"
   ]
  },
  {
   "cell_type": "markdown",
   "id": "cdcbdb71",
   "metadata": {},
   "source": [
    "**✍️A présent, à toi d'écrire un code avec tes propres blagues dans la fenêtre ci-dessous en utilisant les fonctions <code> print</code> et <code>input</code> :**"
   ]
  },
  {
   "cell_type": "code",
   "execution_count": null,
   "id": "0dd4a77e",
   "metadata": {},
   "outputs": [],
   "source": [
    "#Ecris ton code de blague ci-dessous. Merci de rester dans le cadre scolaire...\n",
    "\n"
   ]
  },
  {
   "cell_type": "markdown",
   "id": "b21a7905",
   "metadata": {},
   "source": [
    "Une fois que tu as fini, n'hésite pas à appeler le professeur pour lui faire tester ton code. "
   ]
  },
  {
   "cell_type": "markdown",
   "id": "500fab46",
   "metadata": {},
   "source": [
    "# Pour passer à l'activité suivante clique [ici](https://notebook.basthon.fr/?from=https://raw.githubusercontent.com/pierreghesqui/DecouvertePythonBasthon/main/Activit%C3%A9%202%20-%20Conditions.ipynb)"
   ]
  }
 ],
 "metadata": {
  "kernelspec": {
   "display_name": "Python 3 (ipykernel)",
   "language": "python",
   "name": "python3"
  },
  "language_info": {
   "codemirror_mode": {
    "name": "ipython",
    "version": 3
   },
   "file_extension": ".py",
   "mimetype": "text/x-python",
   "name": "python",
   "nbconvert_exporter": "python",
   "pygments_lexer": "ipython3",
   "version": "3.9.12"
  }
 },
 "nbformat": 4,
 "nbformat_minor": 5
}
